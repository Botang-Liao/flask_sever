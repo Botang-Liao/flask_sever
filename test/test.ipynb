{
 "cells": [
  {
   "cell_type": "code",
   "execution_count": 5,
   "metadata": {},
   "outputs": [
    {
     "name": "stdout",
     "output_type": "stream",
     "text": [
      "登錄成功\n",
      "[{'uid': 3, 'email': '3', 'username': '呂亞縉', 'password_hash': '33', 'picture_path': None, 'verified': 0, 'education': 'ncku', 'about': '凰嘉我婆', 'language': 'Chinese', 'other_info': '三小啦 不要亂寫 ', 'score': 3.548, 'last_edit': '2023-04-13 18:17:17'}]\n",
      "訪問成功\n"
     ]
    }
   ],
   "source": [
    "import requests\n",
    "\n",
    "# 建立一個持久的會話\n",
    "session = requests.Session()\n",
    "#response = session.post('http://127.0.0.1:54088/api/auth/logout')\n",
    "# 訪問登錄 API\n",
    "response = session.post('http://127.0.0.1:54088/api/auth/login', params={'email':'3','password':'33'})\n",
    "\n",
    "# 檢查登錄是否成功，可以查看 response 的狀態碼和內容\n",
    "if response.status_code != 200:\n",
    "    print(response.status_code)\n",
    "    print('登錄失敗')\n",
    "else:\n",
    "    print('登錄成功')\n",
    "    \n",
    "\n",
    "    # 訪問受保護的 API，確保帶有相關的 cookie\n",
    "    response = session.get('http://127.0.0.1:54088//api/user/get_info')\n",
    "    print(response.json())\n",
    "    # 檢查訪問是否成功，可以查看 response 的狀態碼和內容\n",
    "    if response.status_code == 200:\n",
    "        print('訪問成功')\n",
    "    else:\n",
    "        print('訪問失敗')"
   ]
  },
  {
   "cell_type": "code",
   "execution_count": null,
   "metadata": {},
   "outputs": [],
   "source": []
  },
  {
   "cell_type": "code",
   "execution_count": 153,
   "metadata": {},
   "outputs": [
    {
     "data": {
      "text/plain": [
       "'pbkdf2:sha256:260000$wxCI9a1rk7QPzOdA$858ce1b55686253b7529265894a752c70501fa4c20041e2f8b8be67b2fa112aa'"
      ]
     },
     "execution_count": 153,
     "metadata": {},
     "output_type": "execute_result"
    }
   ],
   "source": [
    "from werkzeug.security import generate_password_hash, check_password_hash\n",
    "from werkzeug.datastructures import FileStorage\n",
    "\n",
    "password = '1'\n",
    "result = generate_password_hash(password)\n",
    "result"
   ]
  }
 ],
 "metadata": {
  "kernelspec": {
   "display_name": "Python 3",
   "language": "python",
   "name": "python3"
  },
  "language_info": {
   "codemirror_mode": {
    "name": "ipython",
    "version": 3
   },
   "file_extension": ".py",
   "mimetype": "text/x-python",
   "name": "python",
   "nbconvert_exporter": "python",
   "pygments_lexer": "ipython3",
   "version": "3.10.6"
  },
  "orig_nbformat": 4
 },
 "nbformat": 4,
 "nbformat_minor": 2
}
